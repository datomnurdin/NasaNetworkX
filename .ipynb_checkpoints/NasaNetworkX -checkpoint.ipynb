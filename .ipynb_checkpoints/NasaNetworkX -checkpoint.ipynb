{
 "cells": [
  {
   "cell_type": "code",
   "execution_count": 1,
   "metadata": {},
   "outputs": [],
   "source": [
    "%matplotlib inline\n",
    "\n",
    "import pandas as pd\n",
    "import matplotlib.pyplot as plt\n",
    "from nltk.corpus import stopwords \n",
    "from nltk.stem.wordnet import WordNetLemmatizer\n",
    "import string\n",
    "\n",
    "# Importing Gensim\n",
    "import gensim\n",
    "from gensim import corpora\n",
    "\n",
    "stop = set(stopwords.words('english'))\n",
    "exclude = set(string.punctuation) \n",
    "lemma = WordNetLemmatizer()\n",
    "doc_complete = []\n",
    "\n",
    "def clean(doc):\n",
    "    stop_free = \" \".join([i for i in doc.lower().split() if i not in stop])\n",
    "    punc_free = ''.join(ch for ch in stop_free if ch not in exclude)\n",
    "    normalized = \" \".join(lemma.lemmatize(word) for word in punc_free.split())\n",
    "    return normalized"
   ]
  },
  {
   "cell_type": "markdown",
   "metadata": {},
   "source": [
    "Read data into a DataFrame"
   ]
  },
  {
   "cell_type": "code",
   "execution_count": 2,
   "metadata": {},
   "outputs": [],
   "source": [
    "data = pd.read_json('data.json')"
   ]
  },
  {
   "cell_type": "markdown",
   "metadata": {},
   "source": [
    "This will show all the column names"
   ]
  },
  {
   "cell_type": "code",
   "execution_count": 3,
   "metadata": {},
   "outputs": [
    {
     "data": {
      "text/plain": [
       "Index(['@context', '@type', 'conformsTo', 'describedBy', 'dataset'], dtype='object')"
      ]
     },
     "execution_count": 3,
     "metadata": {},
     "output_type": "execute_result"
    }
   ],
   "source": [
    "data.columns"
   ]
  },
  {
   "cell_type": "markdown",
   "metadata": {},
   "source": [
    "Sample NASA's data.json"
   ]
  },
  {
   "cell_type": "code",
   "execution_count": 4,
   "metadata": {},
   "outputs": [
    {
     "data": {
      "text/html": [
       "<div>\n",
       "<style scoped>\n",
       "    .dataframe tbody tr th:only-of-type {\n",
       "        vertical-align: middle;\n",
       "    }\n",
       "\n",
       "    .dataframe tbody tr th {\n",
       "        vertical-align: top;\n",
       "    }\n",
       "\n",
       "    .dataframe thead th {\n",
       "        text-align: right;\n",
       "    }\n",
       "</style>\n",
       "<table border=\"1\" class=\"dataframe\">\n",
       "  <thead>\n",
       "    <tr style=\"text-align: right;\">\n",
       "      <th></th>\n",
       "      <th>@context</th>\n",
       "      <th>@type</th>\n",
       "      <th>conformsTo</th>\n",
       "      <th>describedBy</th>\n",
       "      <th>dataset</th>\n",
       "    </tr>\n",
       "  </thead>\n",
       "  <tbody>\n",
       "    <tr>\n",
       "      <th>0</th>\n",
       "      <td>https://project-open-data.cio.gov/v1.1/schema/...</td>\n",
       "      <td>dcat:Catalog</td>\n",
       "      <td>https://project-open-data.cio.gov/v1.1/schema</td>\n",
       "      <td>https://project-open-data.cio.gov/v1.1/schema/...</td>\n",
       "      <td>{'_id': {'$oid': '55942a57c63a7fe59b495a77'}, ...</td>\n",
       "    </tr>\n",
       "    <tr>\n",
       "      <th>1</th>\n",
       "      <td>https://project-open-data.cio.gov/v1.1/schema/...</td>\n",
       "      <td>dcat:Catalog</td>\n",
       "      <td>https://project-open-data.cio.gov/v1.1/schema</td>\n",
       "      <td>https://project-open-data.cio.gov/v1.1/schema/...</td>\n",
       "      <td>{'_id': {'$oid': '55942a57c63a7fe59b495a78'}, ...</td>\n",
       "    </tr>\n",
       "    <tr>\n",
       "      <th>2</th>\n",
       "      <td>https://project-open-data.cio.gov/v1.1/schema/...</td>\n",
       "      <td>dcat:Catalog</td>\n",
       "      <td>https://project-open-data.cio.gov/v1.1/schema</td>\n",
       "      <td>https://project-open-data.cio.gov/v1.1/schema/...</td>\n",
       "      <td>{'_id': {'$oid': '55942a58c63a7fe59b495a79'}, ...</td>\n",
       "    </tr>\n",
       "    <tr>\n",
       "      <th>3</th>\n",
       "      <td>https://project-open-data.cio.gov/v1.1/schema/...</td>\n",
       "      <td>dcat:Catalog</td>\n",
       "      <td>https://project-open-data.cio.gov/v1.1/schema</td>\n",
       "      <td>https://project-open-data.cio.gov/v1.1/schema/...</td>\n",
       "      <td>{'_id': {'$oid': '55942a58c63a7fe59b495a7a'}, ...</td>\n",
       "    </tr>\n",
       "    <tr>\n",
       "      <th>4</th>\n",
       "      <td>https://project-open-data.cio.gov/v1.1/schema/...</td>\n",
       "      <td>dcat:Catalog</td>\n",
       "      <td>https://project-open-data.cio.gov/v1.1/schema</td>\n",
       "      <td>https://project-open-data.cio.gov/v1.1/schema/...</td>\n",
       "      <td>{'_id': {'$oid': '55942a58c63a7fe59b495a7b'}, ...</td>\n",
       "    </tr>\n",
       "  </tbody>\n",
       "</table>\n",
       "</div>"
      ],
      "text/plain": [
       "                                            @context         @type  \\\n",
       "0  https://project-open-data.cio.gov/v1.1/schema/...  dcat:Catalog   \n",
       "1  https://project-open-data.cio.gov/v1.1/schema/...  dcat:Catalog   \n",
       "2  https://project-open-data.cio.gov/v1.1/schema/...  dcat:Catalog   \n",
       "3  https://project-open-data.cio.gov/v1.1/schema/...  dcat:Catalog   \n",
       "4  https://project-open-data.cio.gov/v1.1/schema/...  dcat:Catalog   \n",
       "\n",
       "                                      conformsTo  \\\n",
       "0  https://project-open-data.cio.gov/v1.1/schema   \n",
       "1  https://project-open-data.cio.gov/v1.1/schema   \n",
       "2  https://project-open-data.cio.gov/v1.1/schema   \n",
       "3  https://project-open-data.cio.gov/v1.1/schema   \n",
       "4  https://project-open-data.cio.gov/v1.1/schema   \n",
       "\n",
       "                                         describedBy  \\\n",
       "0  https://project-open-data.cio.gov/v1.1/schema/...   \n",
       "1  https://project-open-data.cio.gov/v1.1/schema/...   \n",
       "2  https://project-open-data.cio.gov/v1.1/schema/...   \n",
       "3  https://project-open-data.cio.gov/v1.1/schema/...   \n",
       "4  https://project-open-data.cio.gov/v1.1/schema/...   \n",
       "\n",
       "                                             dataset  \n",
       "0  {'_id': {'$oid': '55942a57c63a7fe59b495a77'}, ...  \n",
       "1  {'_id': {'$oid': '55942a57c63a7fe59b495a78'}, ...  \n",
       "2  {'_id': {'$oid': '55942a58c63a7fe59b495a79'}, ...  \n",
       "3  {'_id': {'$oid': '55942a58c63a7fe59b495a7a'}, ...  \n",
       "4  {'_id': {'$oid': '55942a58c63a7fe59b495a7b'}, ...  "
      ]
     },
     "execution_count": 4,
     "metadata": {},
     "output_type": "execute_result"
    }
   ],
   "source": [
    "data.head()"
   ]
  },
  {
   "cell_type": "code",
   "execution_count": 5,
   "metadata": {},
   "outputs": [
    {
     "data": {
      "text/plain": [
       "28622140"
      ]
     },
     "execution_count": 5,
     "metadata": {},
     "output_type": "execute_result"
    }
   ],
   "source": [
    "file = open(\"doc_complete.txt\", \"w\")\n",
    "\n",
    "for result in data['dataset']:\n",
    "    result[u'description'] = result[u'description']\n",
    "    doc_complete.append(result[u'description'])\n",
    "    \n",
    "file.write(str(doc_complete))"
   ]
  },
  {
   "cell_type": "code",
   "execution_count": 6,
   "metadata": {},
   "outputs": [],
   "source": [
    "doc_clean = [clean(doc).split() for doc in doc_complete]  "
   ]
  },
  {
   "cell_type": "code",
   "execution_count": 7,
   "metadata": {},
   "outputs": [],
   "source": [
    "# Creating the term dictionary of our courpus, where every unique term is assigned an index. \n",
    "dictionary = corpora.Dictionary(doc_clean)\n",
    "\n",
    "# Converting list of documents (corpus) into Document Term Matrix using dictionary prepared above.\n",
    "doc_term_matrix = [dictionary.doc2bow(doc) for doc in doc_clean]"
   ]
  },
  {
   "cell_type": "code",
   "execution_count": 8,
   "metadata": {},
   "outputs": [],
   "source": [
    "# Creating the object for LDA model using gensim library\n",
    "Lda = gensim.models.ldamodel.LdaModel\n",
    "\n",
    "# Running and Trainign LDA model on the document term matrix.\n",
    "ldamodel = Lda(doc_term_matrix, num_topics=8, id2word = dictionary, passes=50)"
   ]
  },
  {
   "cell_type": "code",
   "execution_count": 9,
   "metadata": {},
   "outputs": [
    {
     "name": "stdout",
     "output_type": "stream",
     "text": [
      "[(0, '0.045*\"band\" + 0.028*\"color\" + 0.027*\"nm\"'), (1, '0.028*\"system\" + 0.012*\"phase\" + 0.010*\"nasa\"'), (2, '0.049*\"data\" + 0.018*\"set\" + 0.013*\"model\"'), (3, '0.048*\"data\" + 0.028*\"product\" + 0.013*\"file\"'), (4, '0.014*\"system\" + 0.013*\"prognostic\" + 0.011*\"fault\"'), (5, '0.057*\"modis\" + 0.033*\"aqua\" + 0.033*\"global\"'), (6, '0.207*\"equator\" + 0.106*\"land\" + 0.105*\"am\"'), (7, '0.030*\"data\" + 0.024*\"km\" + 0.021*\"mission\"')]\n"
     ]
    }
   ],
   "source": [
    "print(ldamodel.print_topics(num_topics=8, num_words=3))"
   ]
  }
 ],
 "metadata": {
  "kernelspec": {
   "display_name": "Python 3",
   "language": "python",
   "name": "python3"
  },
  "language_info": {
   "codemirror_mode": {
    "name": "ipython",
    "version": 3
   },
   "file_extension": ".py",
   "mimetype": "text/x-python",
   "name": "python",
   "nbconvert_exporter": "python",
   "pygments_lexer": "ipython3",
   "version": "3.7.0"
  }
 },
 "nbformat": 4,
 "nbformat_minor": 1
}
