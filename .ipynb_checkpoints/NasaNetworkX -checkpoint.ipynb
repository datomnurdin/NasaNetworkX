{
 "cells": [
  {
   "cell_type": "code",
   "execution_count": 1,
   "metadata": {
    "collapsed": true
   },
   "outputs": [],
   "source": [
    "%matplotlib inline\n",
    "\n",
    "import pandas as pd\n",
    "import matplotlib.pyplot as plt\n",
    "from nltk.corpus import stopwords \n",
    "from nltk.stem.wordnet import WordNetLemmatizer\n",
    "import string\n",
    "\n",
    "# Importing Gensim\n",
    "import gensim\n",
    "from gensim import corpora\n",
    "\n",
    "import sys\n",
    "reload(sys)\n",
    "sys.setdefaultencoding('utf-8')\n",
    "\n",
    "stop = set(stopwords.words('english'))\n",
    "exclude = set(string.punctuation) \n",
    "lemma = WordNetLemmatizer()\n",
    "doc_complete = []\n",
    "\n",
    "def clean(doc):\n",
    "    stop_free = \" \".join([i for i in doc.lower().split() if i not in stop])\n",
    "    punc_free = ''.join(ch for ch in stop_free if ch not in exclude)\n",
    "    normalized = \" \".join(lemma.lemmatize(word) for word in punc_free.split())\n",
    "    return normalized"
   ]
  },
  {
   "cell_type": "markdown",
   "metadata": {},
   "source": [
    "Read data into a DataFrame"
   ]
  },
  {
   "cell_type": "code",
   "execution_count": 2,
   "metadata": {
    "collapsed": false
   },
   "outputs": [],
   "source": [
    "data = pd.read_json('data.json')"
   ]
  },
  {
   "cell_type": "markdown",
   "metadata": {},
   "source": [
    "This will show all the column names"
   ]
  },
  {
   "cell_type": "code",
   "execution_count": 3,
   "metadata": {
    "collapsed": false
   },
   "outputs": [
    {
     "data": {
      "text/plain": [
       "Index([u'@context', u'@type', u'conformsTo', u'dataset', u'describedBy'], dtype='object')"
      ]
     },
     "execution_count": 3,
     "metadata": {},
     "output_type": "execute_result"
    }
   ],
   "source": [
    "data.columns"
   ]
  },
  {
   "cell_type": "markdown",
   "metadata": {},
   "source": [
    "Sample NASA's data.json"
   ]
  },
  {
   "cell_type": "code",
   "execution_count": 4,
   "metadata": {
    "collapsed": false
   },
   "outputs": [
    {
     "data": {
      "text/html": [
       "<div>\n",
       "<table border=\"1\" class=\"dataframe\">\n",
       "  <thead>\n",
       "    <tr style=\"text-align: right;\">\n",
       "      <th></th>\n",
       "      <th>@context</th>\n",
       "      <th>@type</th>\n",
       "      <th>conformsTo</th>\n",
       "      <th>dataset</th>\n",
       "      <th>describedBy</th>\n",
       "    </tr>\n",
       "  </thead>\n",
       "  <tbody>\n",
       "    <tr>\n",
       "      <th>0</th>\n",
       "      <td>https://project-open-data.cio.gov/v1.1/schema/...</td>\n",
       "      <td>dcat:Catalog</td>\n",
       "      <td>https://project-open-data.cio.gov/v1.1/schema</td>\n",
       "      <td>{u'publisher': {u'subOrganizationOf': {u'subOr...</td>\n",
       "      <td>https://project-open-data.cio.gov/v1.1/schema/...</td>\n",
       "    </tr>\n",
       "    <tr>\n",
       "      <th>1</th>\n",
       "      <td>https://project-open-data.cio.gov/v1.1/schema/...</td>\n",
       "      <td>dcat:Catalog</td>\n",
       "      <td>https://project-open-data.cio.gov/v1.1/schema</td>\n",
       "      <td>{u'issued': u'2008-12-02T00:00:00.000Z', u'lic...</td>\n",
       "      <td>https://project-open-data.cio.gov/v1.1/schema/...</td>\n",
       "    </tr>\n",
       "    <tr>\n",
       "      <th>2</th>\n",
       "      <td>https://project-open-data.cio.gov/v1.1/schema/...</td>\n",
       "      <td>dcat:Catalog</td>\n",
       "      <td>https://project-open-data.cio.gov/v1.1/schema</td>\n",
       "      <td>{u'issued': u'2008-12-02T00:00:00.000Z', u'ref...</td>\n",
       "      <td>https://project-open-data.cio.gov/v1.1/schema/...</td>\n",
       "    </tr>\n",
       "    <tr>\n",
       "      <th>3</th>\n",
       "      <td>https://project-open-data.cio.gov/v1.1/schema/...</td>\n",
       "      <td>dcat:Catalog</td>\n",
       "      <td>https://project-open-data.cio.gov/v1.1/schema</td>\n",
       "      <td>{u'issued': u'2012-12-12T00:00:00.000Z', u'key...</td>\n",
       "      <td>https://project-open-data.cio.gov/v1.1/schema/...</td>\n",
       "    </tr>\n",
       "    <tr>\n",
       "      <th>4</th>\n",
       "      <td>https://project-open-data.cio.gov/v1.1/schema/...</td>\n",
       "      <td>dcat:Catalog</td>\n",
       "      <td>https://project-open-data.cio.gov/v1.1/schema</td>\n",
       "      <td>{u'issued': u'2012-12-12T00:00:00.000Z', u'key...</td>\n",
       "      <td>https://project-open-data.cio.gov/v1.1/schema/...</td>\n",
       "    </tr>\n",
       "  </tbody>\n",
       "</table>\n",
       "</div>"
      ],
      "text/plain": [
       "                                            @context         @type  \\\n",
       "0  https://project-open-data.cio.gov/v1.1/schema/...  dcat:Catalog   \n",
       "1  https://project-open-data.cio.gov/v1.1/schema/...  dcat:Catalog   \n",
       "2  https://project-open-data.cio.gov/v1.1/schema/...  dcat:Catalog   \n",
       "3  https://project-open-data.cio.gov/v1.1/schema/...  dcat:Catalog   \n",
       "4  https://project-open-data.cio.gov/v1.1/schema/...  dcat:Catalog   \n",
       "\n",
       "                                      conformsTo  \\\n",
       "0  https://project-open-data.cio.gov/v1.1/schema   \n",
       "1  https://project-open-data.cio.gov/v1.1/schema   \n",
       "2  https://project-open-data.cio.gov/v1.1/schema   \n",
       "3  https://project-open-data.cio.gov/v1.1/schema   \n",
       "4  https://project-open-data.cio.gov/v1.1/schema   \n",
       "\n",
       "                                             dataset  \\\n",
       "0  {u'publisher': {u'subOrganizationOf': {u'subOr...   \n",
       "1  {u'issued': u'2008-12-02T00:00:00.000Z', u'lic...   \n",
       "2  {u'issued': u'2008-12-02T00:00:00.000Z', u'ref...   \n",
       "3  {u'issued': u'2012-12-12T00:00:00.000Z', u'key...   \n",
       "4  {u'issued': u'2012-12-12T00:00:00.000Z', u'key...   \n",
       "\n",
       "                                         describedBy  \n",
       "0  https://project-open-data.cio.gov/v1.1/schema/...  \n",
       "1  https://project-open-data.cio.gov/v1.1/schema/...  \n",
       "2  https://project-open-data.cio.gov/v1.1/schema/...  \n",
       "3  https://project-open-data.cio.gov/v1.1/schema/...  \n",
       "4  https://project-open-data.cio.gov/v1.1/schema/...  "
      ]
     },
     "execution_count": 4,
     "metadata": {},
     "output_type": "execute_result"
    }
   ],
   "source": [
    "data.head()"
   ]
  },
  {
   "cell_type": "code",
   "execution_count": null,
   "metadata": {
    "collapsed": false
   },
   "outputs": [],
   "source": [
    "file = open(\"doc_complete.txt\", \"w\")\n",
    "\n",
    "for result in data['dataset']:\n",
    "    result[u'description'] = result[u'description']\n",
    "    doc_complete.append(result[u'description'])\n",
    "    \n",
    "file.write(str(doc_complete))"
   ]
  },
  {
   "cell_type": "code",
   "execution_count": null,
   "metadata": {
    "collapsed": true
   },
   "outputs": [],
   "source": [
    "doc_clean = [clean(doc).split() for doc in doc_complete]  "
   ]
  },
  {
   "cell_type": "code",
   "execution_count": null,
   "metadata": {
    "collapsed": false
   },
   "outputs": [],
   "source": [
    "# Creating the term dictionary of our courpus, where every unique term is assigned an index. \n",
    "dictionary = corpora.Dictionary(doc_clean)\n",
    "\n",
    "# Converting list of documents (corpus) into Document Term Matrix using dictionary prepared above.\n",
    "doc_term_matrix = [dictionary.doc2bow(doc) for doc in doc_clean]"
   ]
  },
  {
   "cell_type": "code",
   "execution_count": null,
   "metadata": {
    "collapsed": false
   },
   "outputs": [],
   "source": [
    "# Creating the object for LDA model using gensim library\n",
    "Lda = gensim.models.ldamodel.LdaModel\n",
    "\n",
    "# Running and Trainign LDA model on the document term matrix.\n",
    "ldamodel = Lda(doc_term_matrix, num_topics=8, id2word = dictionary, passes=50)"
   ]
  },
  {
   "cell_type": "code",
   "execution_count": null,
   "metadata": {
    "collapsed": true
   },
   "outputs": [],
   "source": [
    "print(ldamodel.print_topics(num_topics=8, num_words=3))"
   ]
  }
 ],
 "metadata": {
  "kernelspec": {
   "display_name": "Python 2",
   "language": "python",
   "name": "python2"
  },
  "language_info": {
   "codemirror_mode": {
    "name": "ipython",
    "version": 2
   },
   "file_extension": ".py",
   "mimetype": "text/x-python",
   "name": "python",
   "nbconvert_exporter": "python",
   "pygments_lexer": "ipython2",
   "version": "2.7.11"
  }
 },
 "nbformat": 4,
 "nbformat_minor": 0
}
